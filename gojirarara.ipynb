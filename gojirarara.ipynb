{
 "cells": [
  {
   "cell_type": "code",
   "execution_count": 16,
   "metadata": {},
   "outputs": [
    {
     "name": "stdout",
     "output_type": "stream",
     "text": [
      "gojirarara\n"
     ]
    }
   ],
   "source": [
    "# link to the model in case you need it for testing: \n",
    "# model is under hcii-assignment4 subfolder\n",
    "# https://drive.google.com/drive/folders/1ZDG6EIVRn5nDgzOMWIdPdUB5hJGOgGX0?usp=sharing\n",
    "\n",
    "import tweepy\n",
    "import credentials\n",
    "import numpy as np\n",
    "\n",
    "auth = tweepy.OAuthHandler(credentials.consumer_key, credentials.consumer_secret)\n",
    "auth.set_access_token(credentials.access_token, credentials.access_token_secret)\n",
    "api = tweepy.API(auth)\n",
    "\n",
    "user = api.me()\n",
    "print (user.name)\n"
   ]
  },
  {
   "cell_type": "code",
   "execution_count": 21,
   "metadata": {},
   "outputs": [],
   "source": [
    "from fastai.text import *\n",
    "import pandas as pd\n",
    "from pathlib import Path\n",
    "data_path = Path('./haii-assignment4')\n",
    "serve_classifier = load_learner(path=data_path, file='satire_awd.pkl')\n",
    "serve_lm = load_learner(path=data_path, file='headlines-lm.pkl')"
   ]
  },
  {
   "cell_type": "code",
   "execution_count": 66,
   "metadata": {},
   "outputs": [
    {
     "name": "stdout",
     "output_type": "stream",
     "text": [
      "@bot_gojirarara ‘No, God, No!’ Screams Agonized James Dean Disappearing From Heaven As Filmmakers Finish Constructing CGI\n",
      "@bot_gojirarara Judge Orders Trump To Pay $2 Million For Charity Misuse\n",
      "@bot_gojirarara “New Day; Same Bullshit,” Whispers Dalai Lama Before Slapping On Smile To Greet The Masses\n",
      "Magazine in doctor’s waiting room speaks of simpler time @bot_gojirarara\n",
      "@bot_gojirarara men getting ready to present they understand rugby\n",
      "@bot_gojirarara parents willfully refuse to understand what son does for a living\n",
      "@bot_gojirarara middle class couple has terrible middle class business ideas\n",
      "@bot_gojirarara 5 things you need to know about college\n",
      "@bot_gojirarara The nice weather today is good for shopping\n"
     ]
    }
   ],
   "source": [
    "\n",
    "####\n",
    "# Define the search\n",
    "#####\n",
    "query = '@bot_gojirarara'\n",
    "max_tweets = 100\n",
    "\n",
    "####\n",
    "# Do the search\n",
    "#####\n",
    "searched_tweets = []\n",
    "tweets = []\n",
    "\n",
    "last_id = -1\n",
    "while len(searched_tweets) < max_tweets:\n",
    "    count = max_tweets - len(searched_tweets)\n",
    "    try:\n",
    "        new_tweets = api.search(q=query, count=count, max_id=str(last_id - 1))\n",
    "        if not new_tweets:\n",
    "            break\n",
    "        searched_tweets.extend(new_tweets)\n",
    "        last_id = new_tweets[-1].id\n",
    "    except tweepy.TweepError as e:\n",
    "        # depending on TweepError.code, one may want to retry or wait                                                                                                                 \n",
    "        # to keep things simple, we will give up on an error                                                                                                                          \n",
    "        break    \n",
    "    \n",
    "####\n",
    "# Iterate over the search\n",
    "#####\n",
    "for status in searched_tweets:\n",
    "    print\t(status.text)\n",
    "    tweets.append(status.text)\n",
    "\n"
   ]
  },
  {
   "cell_type": "code",
   "execution_count": 67,
   "metadata": {},
   "outputs": [
    {
     "data": {
      "text/plain": [
       "['‘No, God, No!’ Screams Agonized James Dean Disappearing From Heaven As Filmmakers Finish Constructing CGI',\n",
       " 'Judge Orders Trump To Pay $2 Million For Charity Misuse',\n",
       " '“New Day; Same Bullshit,” Whispers Dalai Lama Before Slapping On Smile To Greet The Masses',\n",
       " 'Magazine in doctor’s waiting room speaks of simpler time ',\n",
       " 'men getting ready to present they understand rugby',\n",
       " 'parents willfully refuse to understand what son does for a living',\n",
       " 'middle class couple has terrible middle class business ideas',\n",
       " '5 things you need to know about college',\n",
       " 'The nice weather today is good for shopping']"
      ]
     },
     "execution_count": 67,
     "metadata": {},
     "output_type": "execute_result"
    }
   ],
   "source": [
    "# revised code: \n",
    "# after parsing by @bot_gojirarara, if users input a string before mentioning my bot (e.g. 'i want to blahblah @bot_gojirarara')\n",
    "# my bot will store and analyze that string before @bot_gojirarara, \n",
    "# if there is no string (-> '')  before mentioning my bot (e.g. '@bot_gojirarara I want to blahblahblah'), \n",
    "# it will store and analyze the string after @bot_gojirarara\n",
    "\n",
    "for i in range(len(tweets)):\n",
    "    tw = []\n",
    "    tw = tweets[i].split(\"@bot_gojirarara\")\n",
    "    if len(tw) > 1:\n",
    "        if (tw[0] == ''):\n",
    "            tweets[i] = (tweets[i].split(\"@bot_gojirarara \")[1])\n",
    "        else:\n",
    "            tweets[i] = (tweets[i].split(\"@bot_gojirarara\")[0])\n",
    "    \n",
    "tweets"
   ]
  },
  {
   "cell_type": "code",
   "execution_count": 68,
   "metadata": {},
   "outputs": [
    {
     "data": {
      "text/plain": [
       "'0'"
      ]
     },
     "execution_count": 68,
     "metadata": {},
     "output_type": "execute_result"
    }
   ],
   "source": [
    "str(serve_classifier.predict(tweets[7])[0])"
   ]
  },
  {
   "cell_type": "code",
   "execution_count": 69,
   "metadata": {},
   "outputs": [],
   "source": [
    "for i in range(len(tweets)):\n",
    "    t = []\n",
    "    t = tweets[i].split(' ')\n",
    "    t2 = ''\n",
    "    if (len(t) >= 2):\n",
    "        t2 +=  t[0] \n",
    "        t2 += ' '\n",
    "        t2 += t[1] \n",
    "    if (len(t) >= 3):\n",
    "        t2 += ' '\n",
    "        t2 += t[2]\n",
    "        \n",
    "    if str(serve_classifier.predict(tweets[i])[0]) == '0':\n",
    "        api.update_status(\n",
    "          'It looks real, not a satire. @' + searched_tweets[i].author.screen_name + ' This is what I want to say: '+serve_lm.predict(t2, n_words=7),\n",
    "          searched_tweets[i].id_str\n",
    "        ) \n",
    "    else:\n",
    "          api.update_status(\n",
    "          'It looks like you are being sarcastic! @' + searched_tweets[i].author.screen_name + ' This is what I want to say: '+serve_lm.predict(t2, n_words=7),\n",
    "          searched_tweets[i].id_str\n",
    "        )\n"
   ]
  },
  {
   "cell_type": "markdown",
   "metadata": {},
   "source": [
    "# Reflect: Would you recommend using our satire-classifier as a good starting point to build a fake-news classifier? (10 points)\n",
    "\n",
    "If so, what changes would we need to make to make it useful for this purpose? If not, why not? \n",
    "\n",
    "\n",
    "Add reflections to the bot notebook (10 points)"
   ]
  },
  {
   "cell_type": "markdown",
   "metadata": {},
   "source": [
    "# Reflection\n",
    "\n",
    "In general, satirical news is often associated with ingenuousness. One of our dataset - the Onion is a source of satirical news. Based on my web search, I think it could also serve as a good source of fake news (I found lots of people referenced it in fake-news related articles and used it in building fake-news classifiers) and we could use 'Not the Onion' as the resource of genuine news (also frequently referenced by people in making fake-news classifier). \n",
    "\n",
    "Using an approach very similar to our satire classifier, we could label news from Not the Onion as 0 (i.e. genuine news) and news from the Onion as 1 (i.e. fake news), and train the language model to let it predict the fake/genuine label in the end, in addition to predicting the next word. \n",
    "\n",
    "Change to make:\n",
    "\n",
    "In this case, I think one issue that we must take a closer look at is the false positive vs. false negative rate. Though model accuracy is important, but in case of fake news detector, the cost of false negative of this fake news classifier (i.e. predicting a headline as genuine but it is actually a fake news) is definitely much bigger than that of a satire classifier. It is okay if our bot cannot get the jokes, but it would cause big problem if it tells people a news is trustworthy while it is fake. Therefore, for fake news classifier we should try to pull the confusion matrix and make sure it has a low false negative rate."
   ]
  },
  {
   "cell_type": "markdown",
   "metadata": {},
   "source": [
    "# Extra credit: Test with Users and Iterate (5 points)\n",
    "In this part, you’ll ask three participants to interact with your bot. You’ll give the user high-level information about what the domain of the bot is, and then see how they interact with it. Ask each of the participants to ask your chatbot at least three different things. Record how they interact with your bot. After this participant input, update your bot to attempt to address how that participant interacted with your chatbot. \n",
    "\n",
    "\n",
    "Add to bot notebook: How did what your participants input compare to the ones you tested so far? How did participants react when the chatbot didn’t respond correctly, or responded with nonsense? (2.5 points)\n",
    "\n",
    "\n",
    "Add to bot notebook: what change could you make in response to this feedback? (2.5 points)\n",
    "\n"
   ]
  },
  {
   "cell_type": "markdown",
   "metadata": {},
   "source": [
    "# User testing\n",
    "\n",
    "I told my friends that I built a chatbot to detect satires. I created three twitter accounts (unfortunately none of us use twitter), handed them the passwords, and let them find headlines and mention my chatbot. I did suggest them to from good ones from either the Onion or the Daily Mash and mention my chatbot to help them detect if it is a joke or not. Both sources have a good amount of satirical news.\n",
    "\n",
    "### Part 1:  How did what your participants input compare to the ones you tested so far? How did participants react when the chatbot didn’t respond correctly, or responded with nonsense? (2.5 points)\n",
    "\n",
    "#### Compare user input with my input\n",
    "\n",
    "* My friends tried to find some funny headlines from the two sources I gave them, but one of them also tried to say something like \"hey what can you tell me about?\" even I told them my chatbot is not built for answering questions and their questions will be treated as a headline. \n",
    "\n",
    "I think this has to do with the mental model of users. Users have no knowledge of how the bot is built and they cannot tell what's the difference between analyzing their questions as questions and analyzing their questions as a news headline. \n",
    "\n",
    "* My friends do not have as good knowledge as I do with the chatbot. So while I have instructed them to type \"@bot_gojirarara\" first and then type a headline, some of them still wrote their sentence first and then @bot_gojirarara. \n",
    "\n",
    "Again, users have no knowledge of how the bot is built. They think either mentioning the bot before or after the headline should not matter, but it does. In my original design, the headline must be typed after @bot. If the headline was added before tagging the bot, it wouldn't work. \n",
    "\n",
    "#### Users' reaction to my chatbot's nonsense reply\n",
    "\n",
    "* Ordinary users cannot understand what the chatbot is replying (\"is it telling me a joke?? or is it writing another headline? a satire? not a satire?\")\n",
    "* They also found that the chatbot produces nonsense words (xxbos) and cannot finish the sentence properly. They think those are the signs that the chatbot behaves poorly. Without understanding the algorithm behind, they feel that this bot is just producing random sentences.\n",
    "* They were actually quite impressed that the bot did pretty well in detecting their satires. But they felt that they have no idea what the reply means. They only noticed that the first three words of the chatbot's reply are the same as their previous input. But the rest of the sentence make little sense to them. \n",
    "\n",
    "### Part 2:  what change could you make in response to this feedback? (2.5 points)\n",
    "\n",
    "####  I fixed the input format issue which caused my bot to run into error. \n",
    "One of my friends accidentally swapped the order of mentioning the bot and writing the headline, so the headline looks like this: \"Magazine blahblah @bot_gojirarara\", and my bot could not give it a response properly. Therefore, in order to fix this issue, I let the chatbot check if the string before @bot_gojirarara is empty string '',  if so, my bot will store the string after @bot_gojirarara as usual, if the string before mentioning my bot is not empty string, I will store and use that non-empty string before @bot_gojirarara. (code is now modified, you can find it under comment ### revised code)\n",
    "\n",
    "#### Another issue I realized is the difference between users' mental model and how the machine works in reality. \n",
    "It reminds me of the google ads—users are not sure why they see certain ads and feel annoyed if they see something that they aren't actually interested. I think in terms of our chatbot, it should: \n",
    "* Clearly tell users what it can do versus what it cannot do (such as \"it is a satire detecter, you can try telling it a joke or let it analyze a satirical headline, but unfortunately, it is not able to answer your question such as 'can you tell me a joke?'\")\n",
    "* Clearly define the format of which users should interact with it (you should start your sentence bt '@bot_gojirarara '\") and make sure users get this information to users before they can start the conversation with the bot (for the types of chatbot that lives in a little dialog box by the corner of a webpage, the format of input should be indicated on the welcome page, and users have to select 'yes, I read through it' to continue). \n",
    "* We could try to add a feature such as if users think the bot behaves strange/ want to know more about how the bot works, type '@bot_gojirarara What does your reply mean?' and explain that the bot used the first three words of the user input and tried to generate a headline. "
   ]
  },
  {
   "cell_type": "markdown",
   "metadata": {},
   "source": [
    "# Extra credit: Deploy bot (10 points)\n",
    "Take your Jupyter notebook (the bot notebook) and deploy it such that it runs once an hour, and responds to all messages sent to it. \n",
    "\n",
    "Add to bot notebook: Twitter handle (of bot) to test for. (10 points)"
   ]
  },
  {
   "cell_type": "code",
   "execution_count": null,
   "metadata": {},
   "outputs": [],
   "source": [
    "#### run the following commands in terminal\n",
    "\n",
    "# crontab -e\n",
    "\n",
    "#### (will enter vim, press i to) add following lines \n",
    "\n",
    "# PATH=/Users/Melia/anaconda3/bin/\n",
    "# 41 * * * * jupyter nbconvert --execute /Users/Melia/HAI/HW4/gojirarara.ipynb\n",
    "\n",
    "#### the system will ask for permission\n",
    "#### this will let the system run the notebook every hour at 41 min (1:41 then 2:41 then 3:41...)\n",
    "#### testing this will need to change 1) document path and 2) executable path based on $ which jupyter\n",
    "\n",
    "\n",
    "#### The following is /var/mail log to prove it worked\n",
    "\n",
    "# From Melia@Coramelia.local  Sun Nov 10 21:41:17 2019\n",
    "# Return-Path: <Melia@Coramelia.local>\n",
    "# X-Original-To: Melia\n",
    "# Delivered-To: Melia@Coramelia.local\n",
    "# Received: by Coramelia.local (Postfix, from userid 501)\n",
    "#         id 12AA9201C5CEBD; Sun, 10 Nov 2019 21:41:17 -0500 (EST)\n",
    "# From: Melia@Coramelia.local (Cron Daemon)\n",
    "# To: Melia@Coramelia.local\n",
    "# Subject: Cron <Melia@Coramelia> jupyter nbconvert --execute /Users/Melia/HAI/HW4/gojirarara.ipynb\n",
    "# X-Cron-Env: <PATH=/Users/Melia/anaconda3/bin/>\n",
    "# X-Cron-Env: <SHELL=/bin/sh>\n",
    "# X-Cron-Env: <LOGNAME=Melia>\n",
    "# X-Cron-Env: <USER=Melia>\n",
    "# X-Cron-Env: <HOME=/Users/Melia>\n",
    "# Message-Id: <20191111024117.12AA9201C5CEBD@Coramelia.local>\n",
    "# Date: Sun, 10 Nov 2019 21:41:01 -0500 (EST)\n",
    "\n",
    "# [NbConvertApp] Converting notebook /Users/Melia/HAI/HW4/gojirarara.ipynb to html\n",
    "# [NbConvertApp] Executing notebook with kernel: python3\n",
    "# [NbConvertApp] Writing 303396 bytes to /Users/Melia/HAI/HW4/gojirarara.html\n"
   ]
  }
 ],
 "metadata": {
  "kernelspec": {
   "display_name": "Python 3",
   "language": "python",
   "name": "python3"
  },
  "language_info": {
   "codemirror_mode": {
    "name": "ipython",
    "version": 3
   },
   "file_extension": ".py",
   "mimetype": "text/x-python",
   "name": "python",
   "nbconvert_exporter": "python",
   "pygments_lexer": "ipython3",
   "version": "3.8.1"
  }
 },
 "nbformat": 4,
 "nbformat_minor": 2
}
